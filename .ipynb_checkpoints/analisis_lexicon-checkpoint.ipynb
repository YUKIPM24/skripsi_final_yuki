{
 "cells": [
  {
   "cell_type": "code",
   "execution_count": 1,
   "id": "5cada61e-d07c-4eb8-be11-489d35d0a7bd",
   "metadata": {},
   "outputs": [
    {
     "name": "stderr",
     "output_type": "stream",
     "text": [
      "C:\\Users\\Yuki Prasetya Mukmin\\AppData\\Roaming\\Python\\Python39\\site-packages\\matplotlib\\projections\\__init__.py:63: UserWarning: Unable to import Axes3D. This may be due to multiple versions of Matplotlib being installed (e.g. as a system package and as a pip package). As a result, the 3D projection is not available.\n",
      "  warnings.warn(\"Unable to import Axes3D. This may be due to multiple versions of \"\n",
      "[nltk_data] Downloading package punkt to C:\\Users\\Yuki Prasetya\n",
      "[nltk_data]     Mukmin\\AppData\\Roaming\\nltk_data...\n",
      "[nltk_data]   Package punkt is already up-to-date!\n",
      "[nltk_data] Downloading package stopwords to C:\\Users\\Yuki Prasetya\n",
      "[nltk_data]     Mukmin\\AppData\\Roaming\\nltk_data...\n",
      "[nltk_data]   Package stopwords is already up-to-date!\n"
     ]
    }
   ],
   "source": [
    "import pandas as pd\n",
    "import seaborn as sns\n",
    "import matplotlib.pyplot as plt\n",
    "from sklearn.naive_bayes import ComplementNB\n",
    "from sklearn.preprocessing import LabelEncoder\n",
    "from sklearn.model_selection import train_test_split\n",
    "from sklearn.feature_extraction.text import TfidfVectorizer\n",
    "from sklearn.metrics import classification_report, accuracy_score, confusion_matrix, precision_score, recall_score, f1_score\n",
    "\n",
    "import nltk\n",
    "nltk.download('punkt')\n",
    "nltk.download('stopwords')\n",
    "from nltk.tokenize import sent_tokenize, word_tokenize\n",
    "from nltk.corpus import stopwords\n",
    "\n",
    "#Sastrawi\n",
    "from Sastrawi.Stemmer.StemmerFactory import StemmerFactory\n",
    "\n",
    "import re\n",
    "import string"
   ]
  },
  {
   "cell_type": "code",
   "execution_count": 2,
   "id": "19ae9394",
   "metadata": {},
   "outputs": [
    {
     "data": {
      "text/html": [
       "<div>\n",
       "<style scoped>\n",
       "    .dataframe tbody tr th:only-of-type {\n",
       "        vertical-align: middle;\n",
       "    }\n",
       "\n",
       "    .dataframe tbody tr th {\n",
       "        vertical-align: top;\n",
       "    }\n",
       "\n",
       "    .dataframe thead th {\n",
       "        text-align: right;\n",
       "    }\n",
       "</style>\n",
       "<table border=\"1\" class=\"dataframe\">\n",
       "  <thead>\n",
       "    <tr style=\"text-align: right;\">\n",
       "      <th></th>\n",
       "      <th>id</th>\n",
       "      <th>description</th>\n",
       "    </tr>\n",
       "  </thead>\n",
       "  <tbody>\n",
       "    <tr>\n",
       "      <th>0</th>\n",
       "      <td>1</td>\n",
       "      <td>malu sama kaleng sarden dan hongguan yg bisa t...</td>\n",
       "    </tr>\n",
       "    <tr>\n",
       "      <th>1</th>\n",
       "      <td>2</td>\n",
       "      <td>Berguna kagak, membodohi iya.. 💀</td>\n",
       "    </tr>\n",
       "    <tr>\n",
       "      <th>2</th>\n",
       "      <td>3</td>\n",
       "      <td>Berhentikan rangka esaf🤬</td>\n",
       "    </tr>\n",
       "    <tr>\n",
       "      <th>3</th>\n",
       "      <td>4</td>\n",
       "      <td>kuning2 di rangka esaf itu EMAS TAI, bukan KARAT</td>\n",
       "    </tr>\n",
       "    <tr>\n",
       "      <th>4</th>\n",
       "      <td>5</td>\n",
       "      <td>Mana penjelasan honda jngn lepas tangan</td>\n",
       "    </tr>\n",
       "  </tbody>\n",
       "</table>\n",
       "</div>"
      ],
      "text/plain": [
       "   id                                        description\n",
       "0   1  malu sama kaleng sarden dan hongguan yg bisa t...\n",
       "1   2                   Berguna kagak, membodohi iya.. 💀\n",
       "2   3                           Berhentikan rangka esaf🤬\n",
       "3   4   kuning2 di rangka esaf itu EMAS TAI, bukan KARAT\n",
       "4   5            Mana penjelasan honda jngn lepas tangan"
      ]
     },
     "execution_count": 2,
     "metadata": {},
     "output_type": "execute_result"
    }
   ],
   "source": [
    "df = pd.read_excel(\"Klarifikasi_Kemunculan_Warna_Kuning_Pada_Rangka_Honda.xlsx\")\n",
    "\n",
    "df = df[[\"id\", \"description\"]]\n",
    "df.head()"
   ]
  },
  {
   "cell_type": "markdown",
   "id": "ecf5eca5",
   "metadata": {},
   "source": [
    "# Cleansing\n",
    "Menghapus tanda baca,url, spasi dll."
   ]
  },
  {
   "cell_type": "code",
   "execution_count": 3,
   "id": "90660045",
   "metadata": {},
   "outputs": [],
   "source": [
    "def cleaning(Text, replacements=None):\n",
    "    if pd.isnull(Text):  # Check if Text is NaN\n",
    "        return \"\"\n",
    "    # Mengganti huruf yang berulang-ulang ('oooooo' menjadi '00')\n",
    "    Text = re.sub(r'(.)\\1+', r'\\1\\1', Text)\n",
    "    # Mengganti 2 atau lebih titik dengan spasi\n",
    "    Text = re.sub(r'\\.{2,}', ' ', Text)\n",
    "    # Menghapus @username\n",
    "    Text = re.sub('@[^\\s]+','', Text)\n",
    "    # Menghapus angka\n",
    "    Text = re.sub('[0-9]+', '', Text)\n",
    "    # Menghapus URL\n",
    "    Text = re.sub(r\"http\\S+\", \"\", Text)\n",
    "    # Menghapus hashtag\n",
    "    Text = re.sub(r'#', '', Text)\n",
    "    # Menghapus spasi, tanda kutip ganda (\"), dan tanda kutip tunggal (') dari teks\n",
    "    Text = Text.strip(' \"\\'')\n",
    "    # Mengganti beberapa spasi dengan satu spasi\n",
    "    Text = re.sub(r'\\s+', ' ', Text)\n",
    "    # Menghapus tanda baca\n",
    "    Text = Text.translate(str.maketrans(\"\", \"\", string.punctuation))\n",
    "    # Menghapus karakter tidak diinginkan menggunakan kamus pengganti khusus jika disediakan\n",
    "    if replacements:\n",
    "        for old, new in replacements.items():\n",
    "            Text = Text.replace(old, new)\n",
    "    # Mengembalikan teks yang telah dibersihkan\n",
    "    return Text"
   ]
  },
  {
   "cell_type": "code",
   "execution_count": 4,
   "id": "a09186d2",
   "metadata": {},
   "outputs": [
    {
     "data": {
      "text/plain": [
       "0       malu sama kaleng sarden dan hongguan yg bisa t...\n",
       "1                           Berguna kagak membodohi iya 💀\n",
       "2                                Berhentikan rangka esaf🤬\n",
       "3          kuning di rangka esaf itu EMAS TAI bukan KARAT\n",
       "4                 Mana penjelasan honda jngn lepas tangan\n",
       "                              ...                        \n",
       "4505    Pcx gen bro sma rambut lu aja msih tebel rambu...\n",
       "4506    Kejadian yang saya rasain pas dulu pasang stik...\n",
       "4507    Hee udah lama om Orangnya aja kelewat tutup ma...\n",
       "4508    MAU UNTUNG AJA LU MANA TANGGUNG JAWABMU LU KIR...\n",
       "4509    Udah sering lihat motot honda beat ahm patah p...\n",
       "Name: textClean_cleaning, Length: 4510, dtype: object"
      ]
     },
     "execution_count": 4,
     "metadata": {},
     "output_type": "execute_result"
    }
   ],
   "source": [
    "df['textClean_cleaning'] = df['description'].apply(cleaning)\n",
    "df['textClean_cleaning']"
   ]
  },
  {
   "cell_type": "markdown",
   "id": "4e33cf40",
   "metadata": {},
   "source": [
    "# Case Folding, Clean Emoji\n",
    "Merubah huruf kapital menjadi huruf kecil dan membersihkan emoticon"
   ]
  },
  {
   "cell_type": "code",
   "execution_count": 5,
   "id": "b4afc14d",
   "metadata": {},
   "outputs": [],
   "source": [
    "def casefolding(text):\n",
    "  # Mengubah teks ke huruf kecil (lowercase)\n",
    "  text = text.lower()\n",
    "  # Menghapus emoticon\n",
    "  # Pola regex untuk mendeteksi berbagai karakter emoticon dan simbol\n",
    "  emoji_pattern = re.compile(\"[\"\n",
    "                               u\"\\U0001F600-\\U0001F64F\"  # emoticons\n",
    "                               u\"\\U0001F300-\\U0001F5FF\"  # symbols & pictographs\n",
    "                               u\"\\U0001F680-\\U0001F6FF\"  # transport & map symbols\n",
    "                               u\"\\U0001F1E0-\\U0001F1FF\"  # flags (iOS)\n",
    "                               u\"\\U00002500-\\U00002BEF\"  # chinese char\n",
    "                               u\"\\U00002702-\\U000027B0\"\n",
    "                               u\"\\U00002702-\\U000027B0\"\n",
    "                               u\"\\U000024C2-\\U0001F251\"\n",
    "                               u\"\\U0001f926-\\U0001f937\"\n",
    "                               u\"\\U00010000-\\U0010ffff\"\n",
    "                               u\"\\u2640-\\u2642\"\n",
    "                               u\"\\u2600-\\u2B55\"\n",
    "                               u\"\\u200d\"\n",
    "                               u\"\\u23cf\"\n",
    "                               u\"\\u23e9\"\n",
    "                               u\"\\u231a\"\n",
    "                               u\"\\ufe0f\"  # dingbats\n",
    "                               u\"\\u3030\"\n",
    "                               \"]+\", flags=re.UNICODE)\n",
    "  # Mengganti semua emoticon dan simbol yang terdeteksi dengan string kosong\n",
    "  text = emoji_pattern.sub(r'', text)\n",
    "  # Menghapus karakter non-ASCII\n",
    "  encoded_string = text.encode(\"ascii\", \"ignore\")\n",
    "  # Mengubah kembali byte string menjadi string normal\n",
    "  text = encoded_string.decode()\n",
    "  # Mengembalikan teks yang sudah dibersihkan\n",
    "  return text"
   ]
  },
  {
   "cell_type": "code",
   "execution_count": 6,
   "id": "302cc951",
   "metadata": {},
   "outputs": [
    {
     "data": {
      "text/plain": [
       "0       malu sama kaleng sarden dan hongguan yg bisa t...\n",
       "1                            berguna kagak membodohi iya \n",
       "2                                 berhentikan rangka esaf\n",
       "3          kuning di rangka esaf itu emas tai bukan karat\n",
       "4                 mana penjelasan honda jngn lepas tangan\n",
       "                              ...                        \n",
       "4505    pcx gen bro sma rambut lu aja msih tebel rambut  \n",
       "4506    kejadian yang saya rasain pas dulu pasang stik...\n",
       "4507    hee udah lama om orangnya aja kelewat tutup ma...\n",
       "4508    mau untung aja lu mana tanggung jawabmu lu kir...\n",
       "4509    udah sering lihat motot honda beat ahm patah p...\n",
       "Name: textClean_casefolding, Length: 4510, dtype: object"
      ]
     },
     "execution_count": 6,
     "metadata": {},
     "output_type": "execute_result"
    }
   ],
   "source": [
    "df['textClean_casefolding'] = df['textClean_cleaning'].apply(casefolding)\n",
    "df['textClean_casefolding']"
   ]
  },
  {
   "cell_type": "markdown",
   "id": "093bd976",
   "metadata": {},
   "source": [
    "# Stemming\n",
    "kata yang memiliki imbuhan menjadi kata dasar"
   ]
  },
  {
   "cell_type": "code",
   "execution_count": 7,
   "id": "f8fb409f",
   "metadata": {},
   "outputs": [],
   "source": [
    "factory = StemmerFactory()\n",
    "stemmer = factory.create_stemmer()"
   ]
  },
  {
   "cell_type": "code",
   "execution_count": 8,
   "id": "27ddb64a",
   "metadata": {},
   "outputs": [
    {
     "data": {
      "text/plain": [
       "0       malu sama kaleng sarden dan hongguan yg bisa t...\n",
       "1                                    guna kagak bodoh iya\n",
       "2                                       henti rangka esaf\n",
       "3          kuning di rangka esaf itu emas tai bukan karat\n",
       "4                      mana jelas honda jngn lepas tangan\n",
       "                              ...                        \n",
       "4505      pcx gen bro sma rambut lu aja msih tebel rambut\n",
       "4506    jadi yang saya rasain pas dulu pasang stiker o...\n",
       "4507    hee udah lama om orang aja lewat tutup mata sa...\n",
       "4508    mau untung aja lu mana tanggung jawab lu kira ...\n",
       "4509    udah sering lihat motot honda beat ahm patah p...\n",
       "Name: textClean_stemmer, Length: 4510, dtype: object"
      ]
     },
     "execution_count": 8,
     "metadata": {},
     "output_type": "execute_result"
    }
   ],
   "source": [
    "df['textClean_stemmer'] = df['textClean_casefolding'].apply(stemmer.stem)\n",
    "df['textClean_stemmer']"
   ]
  },
  {
   "cell_type": "markdown",
   "id": "885b2f39",
   "metadata": {},
   "source": [
    "# Slangwords\n",
    "mengindentifikasi kata-kata slang (kata gaul) lalu akan diganti ke kata yang lebih baku atau umum"
   ]
  },
  {
   "cell_type": "code",
   "execution_count": 9,
   "id": "a553a21b",
   "metadata": {},
   "outputs": [],
   "source": [
    "kbba_dictionary = pd.read_csv('kbba.txt', delimiter='\\t', names=['slang', 'formal'], header=None, encoding='utf-8')\n",
    "slang_dict = dict(zip(kbba_dictionary['slang'], kbba_dictionary['formal']))\n",
    "kbba_dictionary\n",
    "def convert_slangword(text):\n",
    "    words = text.split()\n",
    "    normalized_words = [slang_dict[word] if word in slang_dict else word for word in words]\n",
    "    normalized_text = ' '.join(normalized_words)\n",
    "    return normalized_text"
   ]
  },
  {
   "cell_type": "code",
   "execution_count": 10,
   "id": "39758bbd",
   "metadata": {},
   "outputs": [
    {
     "data": {
      "text/plain": [
       "0       malu sama kaleng sarden dan kongguan yang bisa...\n",
       "1                                 berguna tidak bodoh iya\n",
       "2                                       henti rangka esaf\n",
       "3       kuning di rangka esaf itu emas kotoran bukan k...\n",
       "4                    mana jelas honda jangan lepas tangan\n",
       "                              ...                        \n",
       "4505    pcx gen saudara laki-laki sama rambut kamu saj...\n",
       "4506    jadi yang saya rasain pas dulu pasang stiker o...\n",
       "4507    hee sudah lama om orang saja lewat tutup mata ...\n",
       "4508    mau untung saja kamu mana tanggung jawab kamu ...\n",
       "4509    sudah sering lihat motot honda beat ahm patah ...\n",
       "Name: textClean_slang, Length: 4510, dtype: object"
      ]
     },
     "execution_count": 10,
     "metadata": {},
     "output_type": "execute_result"
    }
   ],
   "source": [
    "df['textClean_slang'] = df['textClean_stemmer'].apply(convert_slangword)\n",
    "df['textClean_slang']"
   ]
  },
  {
   "cell_type": "markdown",
   "id": "a263f7f2",
   "metadata": {},
   "source": [
    "# Stopword\n",
    "ini akan menghapus seluruh kata yang dianggap tidak penting, yang mana tidak akan mempengaruhi sentimen pada kalimat. Kata yang tidak penting disini adalah kata sambung seperti, di, ke, ini, dan, dari, segala, itu."
   ]
  },
  {
   "cell_type": "code",
   "execution_count": 11,
   "id": "423bf432",
   "metadata": {},
   "outputs": [],
   "source": [
    "from nlp_id.stopword import StopWord\n",
    "stopword = StopWord()\n",
    "stopwords = stopword.get_stopword()\n",
    "# Hapus kata \"tidak\" dari daftar stopwords\n",
    "if \"tidak\" in stopwords:\n",
    "    stopwords.remove(\"tidak\")\n",
    "# Fungsi untuk menghapus stopwords dengan pengecualian kata \"tidak\"\n",
    "def remove_stopwords_with_exception(text):\n",
    "    words = text.split()\n",
    "    cleaned_words = [word for word in words if word not in stopwords]\n",
    "    return \" \".join(cleaned_words)"
   ]
  },
  {
   "cell_type": "code",
   "execution_count": 12,
   "id": "c1189a44",
   "metadata": {},
   "outputs": [
    {
     "data": {
      "text/plain": [
       "0                    malu kaleng sarden kongguan tahan ah\n",
       "1                                     berguna tidak bodoh\n",
       "2                                       henti rangka esaf\n",
       "3                   kuning rangka esaf emas kotoran karat\n",
       "4                                      honda lepas tangan\n",
       "                              ...                        \n",
       "4505    pcx gen saudara laki-laki rambut msih tebel ra...\n",
       "4506    rasain pasang stiker oracal honda cbr dealer c...\n",
       "4507                         hee om orang tutup mata merk\n",
       "4508    untung tanggung bayar daun mangga kualitas jag...\n",
       "4509          lihat motot honda beat ahm patah porek depa\n",
       "Name: Text_Clean, Length: 4510, dtype: object"
      ]
     },
     "execution_count": 12,
     "metadata": {},
     "output_type": "execute_result"
    }
   ],
   "source": [
    "# Gunakan fungsi remove_stopwords_with_exception pada kolom \"textClean_slang\"\n",
    "df[\"Text_Clean\"] = df[\"textClean_slang\"].apply(remove_stopwords_with_exception)\n",
    "df[\"Text_Clean\"]"
   ]
  },
  {
   "cell_type": "markdown",
   "id": "7e4bee6d",
   "metadata": {},
   "source": [
    "# Unwanted Word Removal\n",
    "ulasan yang terdapat nama bulan, dan tanda baca satu persatu akan diperiksa, jika terdapat kata nama bulan, atau tanda baca akan dihilangkan"
   ]
  },
  {
   "cell_type": "code",
   "execution_count": 13,
   "id": "31370e87",
   "metadata": {},
   "outputs": [
    {
     "name": "stderr",
     "output_type": "stream",
     "text": [
      "[nltk_data] Downloading package punkt to C:\\Users\\Yuki Prasetya\n",
      "[nltk_data]     Mukmin\\AppData\\Roaming\\nltk_data...\n",
      "[nltk_data]   Package punkt is already up-to-date!\n"
     ]
    }
   ],
   "source": [
    "unwanted_words = ['jan','feb','mar','apr','mei','jun','jul','aug','sep','oct','nov','dec','uaddown','weareuad','Iam','https','igshid']\n",
    "import nltk\n",
    "from nltk import word_tokenize, sent_tokenize\n",
    "nltk.download('punkt')\n",
    "def RemoveUnwantedwords(text):\n",
    "    word_tokens = word_tokenize(text)\n",
    "    filtered_sentence = [word for word in word_tokens if not word in unwanted_words]\n",
    "    return ' '.join(filtered_sentence)"
   ]
  },
  {
   "cell_type": "code",
   "execution_count": 14,
   "id": "64f72390",
   "metadata": {},
   "outputs": [
    {
     "data": {
      "text/plain": [
       "0                    malu kaleng sarden kongguan tahan ah\n",
       "1                                     berguna tidak bodoh\n",
       "2                                       henti rangka esaf\n",
       "3                   kuning rangka esaf emas kotoran karat\n",
       "4                                      honda lepas tangan\n",
       "                              ...                        \n",
       "4505    pcx gen saudara laki-laki rambut msih tebel ra...\n",
       "4506    rasain pasang stiker oracal honda cbr dealer c...\n",
       "4507                         hee om orang tutup mata merk\n",
       "4508    untung tanggung bayar daun mangga kualitas jag...\n",
       "4509          lihat motot honda beat ahm patah porek depa\n",
       "Name: Text_Clean_lagi, Length: 4510, dtype: object"
      ]
     },
     "execution_count": 14,
     "metadata": {},
     "output_type": "execute_result"
    }
   ],
   "source": [
    "df[\"Text_Clean_lagi\"] = df[\"Text_Clean\"].apply(RemoveUnwantedwords)\n",
    "df[\"Text_Clean_lagi\"]"
   ]
  },
  {
   "cell_type": "markdown",
   "id": "b3ca896e",
   "metadata": {},
   "source": [
    "# Menghapus kata di bawah 3 huruf"
   ]
  },
  {
   "cell_type": "code",
   "execution_count": 15,
   "id": "cd881278",
   "metadata": {},
   "outputs": [
    {
     "data": {
      "text/plain": [
       "0                       malu kaleng sarden kongguan tahan\n",
       "1                                     berguna tidak bodoh\n",
       "2                                       henti rangka esaf\n",
       "3                   kuning rangka esaf emas kotoran karat\n",
       "4                                      honda lepas tangan\n",
       "                              ...                        \n",
       "4505    pcx gen saudara laki laki rambut msih tebel ra...\n",
       "4506    rasain pasang stiker oracal honda cbr dealer c...\n",
       "4507                            hee orang tutup mata merk\n",
       "4508    untung tanggung bayar daun mangga kualitas jag...\n",
       "4509          lihat motot honda beat ahm patah porek depa\n",
       "Name: Text_Clean_lagi, Length: 4510, dtype: object"
      ]
     },
     "execution_count": 15,
     "metadata": {},
     "output_type": "execute_result"
    }
   ],
   "source": [
    "df[\"Text_Clean_lagi\"] = df[\"Text_Clean_lagi\"].str.findall('\\w{3,}').str.join(' ')\n",
    "df[\"Text_Clean_lagi\"]"
   ]
  },
  {
   "cell_type": "markdown",
   "id": "e3d78e7e",
   "metadata": {},
   "source": [
    "# Tokenizing\n",
    "proses pemisahan kata, pemisahan kata pada setiap kalimat dilakukan berdasarkan delimeter yaitu adanya spasi pada setiap kata."
   ]
  },
  {
   "cell_type": "code",
   "execution_count": 16,
   "id": "7ea1d1d1",
   "metadata": {},
   "outputs": [],
   "source": [
    "def tokenize(teks):\n",
    "    list_teks = []\n",
    "    words = teks.split(\" \")\n",
    "    i = 0\n",
    "    while i < len(words):\n",
    "        if words[i] == \"tidak\" and i + 1 < len(words) and words[i + 1] == \"percaya\":\n",
    "            list_teks.append(\"tidak percaya\")\n",
    "            i += 2\n",
    "        else:\n",
    "            list_teks.append(words[i])\n",
    "            i += 1\n",
    "    return list_teks\n"
   ]
  },
  {
   "cell_type": "code",
   "execution_count": 17,
   "id": "83df9e2f",
   "metadata": {},
   "outputs": [
    {
     "data": {
      "text/plain": [
       "0         [malu, kaleng, sarden, kongguan, tahan]\n",
       "1                         [berguna, tidak, bodoh]\n",
       "2                           [henti, rangka, esaf]\n",
       "3    [kuning, rangka, esaf, emas, kotoran, karat]\n",
       "4                          [honda, lepas, tangan]\n",
       "Name: Text_Clean_split, dtype: object"
      ]
     },
     "execution_count": 17,
     "metadata": {},
     "output_type": "execute_result"
    }
   ],
   "source": [
    "df[\"Text_Clean_split\"] = df[\"Text_Clean_lagi\"].apply(tokenize)\n",
    "df[\"Text_Clean_split\"].head()"
   ]
  },
  {
   "cell_type": "markdown",
   "id": "13bfd598",
   "metadata": {},
   "source": [
    "# Export Data"
   ]
  },
  {
   "cell_type": "code",
   "execution_count": 18,
   "id": "471c11e3",
   "metadata": {},
   "outputs": [],
   "source": [
    "# # Export Data\n",
    "# from datetime import datetime\n",
    "# # Get the current date and time\n",
    "# current_time = datetime.now().strftime(\"%Y-%m-%d_%H-%M-%S\")\n",
    "\n",
    "# # Create the filename with the current date and time\n",
    "# filename = f'hasil_preprocessing_komentar_youtube_{current_time}.xlsx'\n",
    "# # Export DataFrame to Excel\n",
    "# df.to_excel(filename, index=False)"
   ]
  },
  {
   "cell_type": "code",
   "execution_count": 19,
   "id": "f5f9c6a4",
   "metadata": {},
   "outputs": [],
   "source": [
    "# # Export Data\n",
    "# from datetime import datetime\n",
    "# # Get the current date and time\n",
    "# current_time = datetime.now().strftime(\"%Y-%m-%d_%H-%M-%S\")\n",
    "\n",
    "# # Create the filename with the current date and time\n",
    "# filename = f'hasil_labelling_manual.xlsx'\n",
    "# # Export DataFrame to Excel\n",
    "# df_manual.to_excel(filename, index=False)"
   ]
  },
  {
   "cell_type": "markdown",
   "id": "2b7f7025",
   "metadata": {},
   "source": [
    "# Labeling Data (lexicon)\n",
    "proses labeling dengan mencocokkan dan menghitung banyaknya kata positif dan negatif sesuai dengan kamus, lalu data akandihitung jika lebih banyak kata positif dari pada kata negatif maka akan diberikan label positif dan jika lebih banyak kata negatif dari pada kata positif maka akan diberikan label negatif"
   ]
  },
  {
   "cell_type": "code",
   "execution_count": 20,
   "id": "5889bca7",
   "metadata": {},
   "outputs": [
    {
     "name": "stdout",
     "output_type": "stream",
     "text": [
      "Sebelum ditambah\n",
      "Panjang dari positif: 1679\n",
      "Panjang dari negatif: 3616\n",
      "\n",
      "Setelah ditambah\n",
      "Panjang dari positif: 1697\n",
      "Panjang dari negatif: 3616\n"
     ]
    }
   ],
   "source": [
    "# baca positif file\n",
    "with open('positive.txt', 'r') as file:\n",
    "    list_lexicon_positive = file.readlines()\n",
    "\n",
    "# baca negatif file\n",
    "with open('negative.txt', 'r') as file:\n",
    "    list_lexicon_negative = file.readlines()\n",
    "    \n",
    "# menghapus newline dari list word\n",
    "list_lexicon_positive = [word.strip() for word in list_lexicon_positive]\n",
    "list_lexicon_negative = [word.strip() for word in list_lexicon_negative]\n",
    "\n",
    "print(\"Sebelum ditambah\")\n",
    "print(f\"Panjang dari positif: {len(list_lexicon_positive)}\")\n",
    "print(f\"Panjang dari negatif: {len(list_lexicon_negative)}\")\n",
    "\n",
    "\n",
    "# kata-kata positif yang akan di tambahkan ke kamus\n",
    "new_words_positive = [\"makasih\", \"makasih min\", \"mantap min\", \"sangat bermanfaat\", \"top banget\", \"sangat bagus\", \n",
    "             \"thanks min\", \"tetap pakai honda\", \"percaya honda\", \"perbedaan\", \"info penting\", \"tenang\", \n",
    "             \"tenang deh\", \"penting\", \"top\", \"aman\", \"nyaman\", \"yakin\", \"pakai\", \"setia\", \"tetap setia\", \"menghargai\", \"sangat menghargai\", \"keren\",\n",
    "            \"semoga\", \"gratis\"]\n",
    "\n",
    "# kata-kata negatif yang akan di tambahkan ke kamus\n",
    "new_words_negative = [\"malu\", \"karat\", \"kuning\", \"patah\", \"lepas tangan\", \"silikat\", \"ahmpas\", \"recall\", \"lawak\", \"berhentikan\", \n",
    "             \"henti\", \"boraks\", \"anti\", \"nyawa\", \"rawan\", \"kerupuk\", \"burik\", \"berkarat\", \"karat\", \"busuk\", \"jangan pilih\",\n",
    "             \"blunder\", \"palaron\", \"stop\", \"lipat\", \"muka ditutup\", \"lawak\", \"ngelawak\", \"terlalu\", \"kasus\", \"cat\", \"terlalu ngelawak\",\n",
    "             \"bodo amat\", \"produk ampas\", \"ganti rangka\", \"ganti\", \"menolak\", \"tipis\", \"ngelipat\", \"pindah\", \"silit\", \"ngeles\", \"melawan\",\n",
    "             \"stop beli\", \"jual\", \"sakit hati\", \"bye\", \"bye bye\", \"kecewa\", \"kapok\", \"umur\", \"cemen\", \"kasihan\", \"bully\", \"bangkrut\"\n",
    "             , \"cacat\", \"krispi\", \"kaleng\", \"merugikan\", \"ganti\", \"rugi\", \"tinggalkan\", \"gulung\", \"ampas\", \"bobrok\", \"ngeri\", \"viralkan\", \"tinggalkan\"]\n",
    "\n",
    "\n",
    "# menambah kata-kata baru ke lexicon positif ke dalam kamus\n",
    "for word in new_words_positive:\n",
    "    if word not in list_lexicon_positive:\n",
    "        list_lexicon_positive.append(word)\n",
    "        \n",
    "# menambah kata-kata baru ke lexicon negatif ke dalam kamus\n",
    "for word in new_words_negative:\n",
    "    if word not in list_lexicon_negative:\n",
    "        list_lexicon_negative.append(word)\n",
    "    \n",
    "    \n",
    "print(\"\\nSetelah ditambah\")\n",
    "print(f\"Panjang dari positif: {len(list_lexicon_positive)}\")\n",
    "print(f\"Panjang dari negatif: {len(list_lexicon_negative)}\")"
   ]
  },
  {
   "cell_type": "code",
   "execution_count": 21,
   "id": "235d35e3",
   "metadata": {},
   "outputs": [],
   "source": [
    "# # Dictionary kata positif yang digunakan :\n",
    "# df_positive = pd.read_csv('positive.txt', sep='\\t')\n",
    "# list_positive = list(df_positive.iloc[ :: , 0])\n",
    "\n",
    "# # Dictionary kata negatif yang digunakan :\n",
    "# df_negative = pd.read_csv('negative.txt', sep='\\t')\n",
    "# list_negative = list(df_negative.iloc[ :: , 0])"
   ]
  },
  {
   "cell_type": "code",
   "execution_count": 22,
   "id": "bc5788aa",
   "metadata": {},
   "outputs": [],
   "source": [
    "# menghitung kata-kata positif/negatif pada dictionary lalu menentukan sentimennya :\n",
    "def sentiment_kamus_lexicon_id(text):\n",
    "    score = 0\n",
    "    positive_words = []\n",
    "    negative_words = []\n",
    "    neutral_words = []\n",
    "    \n",
    "    for word in text:\n",
    "        if word in list_lexicon_positive:\n",
    "            score += 1\n",
    "            positive_words.append(word)\n",
    "        elif word in list_lexicon_negative:\n",
    "            score -= 1\n",
    "            negative_words.append(word)\n",
    "        else:\n",
    "            neutral_words.append(word)\n",
    "    \n",
    "    polarity = ''\n",
    "    if score > 0:\n",
    "        polarity = 'positive'\n",
    "    elif score < 0:\n",
    "        polarity = 'negative'\n",
    "    else:\n",
    "        polarity = 'neutral'\n",
    "    \n",
    "    result = {'positif': positive_words, 'negatif': negative_words, 'neutral': neutral_words}\n",
    "    return score, polarity, result, positive_words, negative_words, neutral_words\n"
   ]
  },
  {
   "cell_type": "code",
   "execution_count": 23,
   "id": "2e167cd9",
   "metadata": {},
   "outputs": [],
   "source": [
    "def sentiment_manual_label(text_labels):\n",
    "    positive_words = []\n",
    "    negative_words = []\n",
    "    neutral_words = []\n",
    "    \n",
    "    for word, label in text_labels:\n",
    "        if label == 'positive':\n",
    "            positive_words.append(word)\n",
    "        elif label == 'negative':\n",
    "            negative_words.append(word)\n",
    "        else:\n",
    "            neutral_words.append(word)\n",
    "    \n",
    "    total_positive = len(positive_words)\n",
    "    total_negative = len(negative_words)\n",
    "    total_neutral = len(neutral_words)\n",
    "    \n",
    "    score = total_positive - total_negative  # Skor bisa disesuaikan sesuai kebutuhan\n",
    "    \n",
    "    polarity = ''\n",
    "    if score > 0:\n",
    "        polarity = 'positive'\n",
    "    elif score < 0:\n",
    "        polarity = 'negative'\n",
    "    else:\n",
    "        polarity = 'neutral'  # Updated to reflect actual neutral sentiment\n",
    "    \n",
    "    result = {'positif': positive_words, 'negatif': negative_words, 'netral': neutral_words}  # Updated key names\n",
    "    return score, polarity, result, positive_words, negative_words, neutral_words"
   ]
  },
  {
   "cell_type": "code",
   "execution_count": 24,
   "id": "a1f0e31d",
   "metadata": {},
   "outputs": [],
   "source": [
    "hasil = df['Text_Clean_split'].apply(sentiment_kamus_lexicon_id)\n",
    "hasil = list(zip(*hasil))\n",
    "df['polarity_score'] = hasil[0]\n",
    "df['polarity'] = hasil[1]\n",
    "hasil_kata_positive = hasil[3]\n",
    "hasil_kata_negative = hasil[4]\n",
    "\n",
    "df = df[df.polarity != 'neutral']"
   ]
  },
  {
   "cell_type": "code",
   "execution_count": 25,
   "id": "f143331d-34a2-47c8-8f18-bbb4a37bb40f",
   "metadata": {},
   "outputs": [
    {
     "data": {
      "text/html": [
       "<div>\n",
       "<style scoped>\n",
       "    .dataframe tbody tr th:only-of-type {\n",
       "        vertical-align: middle;\n",
       "    }\n",
       "\n",
       "    .dataframe tbody tr th {\n",
       "        vertical-align: top;\n",
       "    }\n",
       "\n",
       "    .dataframe thead th {\n",
       "        text-align: right;\n",
       "    }\n",
       "</style>\n",
       "<table border=\"1\" class=\"dataframe\">\n",
       "  <thead>\n",
       "    <tr style=\"text-align: right;\">\n",
       "      <th></th>\n",
       "      <th>id</th>\n",
       "      <th>description</th>\n",
       "      <th>textClean_cleaning</th>\n",
       "      <th>textClean_casefolding</th>\n",
       "      <th>textClean_stemmer</th>\n",
       "      <th>textClean_slang</th>\n",
       "      <th>Text_Clean</th>\n",
       "      <th>Text_Clean_lagi</th>\n",
       "      <th>Text_Clean_split</th>\n",
       "      <th>polarity_score</th>\n",
       "      <th>polarity</th>\n",
       "    </tr>\n",
       "  </thead>\n",
       "  <tbody>\n",
       "    <tr>\n",
       "      <th>0</th>\n",
       "      <td>1</td>\n",
       "      <td>malu sama kaleng sarden dan hongguan yg bisa t...</td>\n",
       "      <td>malu sama kaleng sarden dan hongguan yg bisa t...</td>\n",
       "      <td>malu sama kaleng sarden dan hongguan yg bisa t...</td>\n",
       "      <td>malu sama kaleng sarden dan hongguan yg bisa t...</td>\n",
       "      <td>malu sama kaleng sarden dan kongguan yang bisa...</td>\n",
       "      <td>malu kaleng sarden kongguan tahan ah</td>\n",
       "      <td>malu kaleng sarden kongguan tahan</td>\n",
       "      <td>[malu, kaleng, sarden, kongguan, tahan]</td>\n",
       "      <td>-3</td>\n",
       "      <td>negative</td>\n",
       "    </tr>\n",
       "    <tr>\n",
       "      <th>1</th>\n",
       "      <td>2</td>\n",
       "      <td>Berguna kagak, membodohi iya.. 💀</td>\n",
       "      <td>Berguna kagak membodohi iya 💀</td>\n",
       "      <td>berguna kagak membodohi iya</td>\n",
       "      <td>guna kagak bodoh iya</td>\n",
       "      <td>berguna tidak bodoh iya</td>\n",
       "      <td>berguna tidak bodoh</td>\n",
       "      <td>berguna tidak bodoh</td>\n",
       "      <td>[berguna, tidak, bodoh]</td>\n",
       "      <td>-1</td>\n",
       "      <td>negative</td>\n",
       "    </tr>\n",
       "    <tr>\n",
       "      <th>2</th>\n",
       "      <td>3</td>\n",
       "      <td>Berhentikan rangka esaf🤬</td>\n",
       "      <td>Berhentikan rangka esaf🤬</td>\n",
       "      <td>berhentikan rangka esaf</td>\n",
       "      <td>henti rangka esaf</td>\n",
       "      <td>henti rangka esaf</td>\n",
       "      <td>henti rangka esaf</td>\n",
       "      <td>henti rangka esaf</td>\n",
       "      <td>[henti, rangka, esaf]</td>\n",
       "      <td>-1</td>\n",
       "      <td>negative</td>\n",
       "    </tr>\n",
       "    <tr>\n",
       "      <th>3</th>\n",
       "      <td>4</td>\n",
       "      <td>kuning2 di rangka esaf itu EMAS TAI, bukan KARAT</td>\n",
       "      <td>kuning di rangka esaf itu EMAS TAI bukan KARAT</td>\n",
       "      <td>kuning di rangka esaf itu emas tai bukan karat</td>\n",
       "      <td>kuning di rangka esaf itu emas tai bukan karat</td>\n",
       "      <td>kuning di rangka esaf itu emas kotoran bukan k...</td>\n",
       "      <td>kuning rangka esaf emas kotoran karat</td>\n",
       "      <td>kuning rangka esaf emas kotoran karat</td>\n",
       "      <td>[kuning, rangka, esaf, emas, kotoran, karat]</td>\n",
       "      <td>-2</td>\n",
       "      <td>negative</td>\n",
       "    </tr>\n",
       "    <tr>\n",
       "      <th>6</th>\n",
       "      <td>7</td>\n",
       "      <td>Sebenar nya Bukan Karat yg salah.. Tapi orang ...</td>\n",
       "      <td>Sebenar nya Bukan Karat yg salah Tapi orang yg...</td>\n",
       "      <td>sebenar nya bukan karat yg salah tapi orang yg...</td>\n",
       "      <td>benar nya bukan karat yg salah tapi orang yg p...</td>\n",
       "      <td>benar nya bukan karat yang salah tapi orang ya...</td>\n",
       "      <td>karat salah orang produksi salah coba produksi...</td>\n",
       "      <td>karat salah orang produksi salah coba produksi...</td>\n",
       "      <td>[karat, salah, orang, produksi, salah, coba, p...</td>\n",
       "      <td>-6</td>\n",
       "      <td>negative</td>\n",
       "    </tr>\n",
       "  </tbody>\n",
       "</table>\n",
       "</div>"
      ],
      "text/plain": [
       "   id                                        description  \\\n",
       "0   1  malu sama kaleng sarden dan hongguan yg bisa t...   \n",
       "1   2                   Berguna kagak, membodohi iya.. 💀   \n",
       "2   3                           Berhentikan rangka esaf🤬   \n",
       "3   4   kuning2 di rangka esaf itu EMAS TAI, bukan KARAT   \n",
       "6   7  Sebenar nya Bukan Karat yg salah.. Tapi orang ...   \n",
       "\n",
       "                                  textClean_cleaning  \\\n",
       "0  malu sama kaleng sarden dan hongguan yg bisa t...   \n",
       "1                      Berguna kagak membodohi iya 💀   \n",
       "2                           Berhentikan rangka esaf🤬   \n",
       "3     kuning di rangka esaf itu EMAS TAI bukan KARAT   \n",
       "6  Sebenar nya Bukan Karat yg salah Tapi orang yg...   \n",
       "\n",
       "                               textClean_casefolding  \\\n",
       "0  malu sama kaleng sarden dan hongguan yg bisa t...   \n",
       "1                       berguna kagak membodohi iya    \n",
       "2                            berhentikan rangka esaf   \n",
       "3     kuning di rangka esaf itu emas tai bukan karat   \n",
       "6  sebenar nya bukan karat yg salah tapi orang yg...   \n",
       "\n",
       "                                   textClean_stemmer  \\\n",
       "0  malu sama kaleng sarden dan hongguan yg bisa t...   \n",
       "1                               guna kagak bodoh iya   \n",
       "2                                  henti rangka esaf   \n",
       "3     kuning di rangka esaf itu emas tai bukan karat   \n",
       "6  benar nya bukan karat yg salah tapi orang yg p...   \n",
       "\n",
       "                                     textClean_slang  \\\n",
       "0  malu sama kaleng sarden dan kongguan yang bisa...   \n",
       "1                            berguna tidak bodoh iya   \n",
       "2                                  henti rangka esaf   \n",
       "3  kuning di rangka esaf itu emas kotoran bukan k...   \n",
       "6  benar nya bukan karat yang salah tapi orang ya...   \n",
       "\n",
       "                                          Text_Clean  \\\n",
       "0               malu kaleng sarden kongguan tahan ah   \n",
       "1                                berguna tidak bodoh   \n",
       "2                                  henti rangka esaf   \n",
       "3              kuning rangka esaf emas kotoran karat   \n",
       "6  karat salah orang produksi salah coba produksi...   \n",
       "\n",
       "                                     Text_Clean_lagi  \\\n",
       "0                  malu kaleng sarden kongguan tahan   \n",
       "1                                berguna tidak bodoh   \n",
       "2                                  henti rangka esaf   \n",
       "3              kuning rangka esaf emas kotoran karat   \n",
       "6  karat salah orang produksi salah coba produksi...   \n",
       "\n",
       "                                    Text_Clean_split  polarity_score  polarity  \n",
       "0            [malu, kaleng, sarden, kongguan, tahan]              -3  negative  \n",
       "1                            [berguna, tidak, bodoh]              -1  negative  \n",
       "2                              [henti, rangka, esaf]              -1  negative  \n",
       "3       [kuning, rangka, esaf, emas, kotoran, karat]              -2  negative  \n",
       "6  [karat, salah, orang, produksi, salah, coba, p...              -6  negative  "
      ]
     },
     "execution_count": 25,
     "metadata": {},
     "output_type": "execute_result"
    }
   ],
   "source": [
    "df.head()"
   ]
  },
  {
   "cell_type": "code",
   "execution_count": 26,
   "id": "3ea2f3b8",
   "metadata": {
    "scrolled": true
   },
   "outputs": [
    {
     "name": "stdout",
     "output_type": "stream",
     "text": [
      "jumlah data: \n",
      "3243\n",
      "\n",
      "detail :\n",
      "polarity\n",
      "negative    2599\n",
      "positive     644\n",
      "Name: count, dtype: int64\n"
     ]
    }
   ],
   "source": [
    "# menghitung hasil sentiment analysis\n",
    "print(\"jumlah data: \")\n",
    "print(df['polarity'].value_counts().sum())\n",
    "\n",
    "print(\"\\ndetail :\")\n",
    "print(df['polarity'].value_counts())"
   ]
  },
  {
   "cell_type": "markdown",
   "id": "0e06c4fb",
   "metadata": {},
   "source": [
    "# Top Kata Positif Dan Kata Negatif\n",
    "menampilkan 10 top kata negatif positif"
   ]
  },
  {
   "cell_type": "code",
   "execution_count": 27,
   "id": "3cec93f4",
   "metadata": {},
   "outputs": [
    {
     "name": "stdout",
     "output_type": "stream",
     "text": [
      "   Positive Word  count\n",
      "0          pakai    475\n",
      "1    klarifikasi    292\n",
      "2        berguna    155\n",
      "3           kuat    129\n",
      "4        selamat    125\n",
      "5          bagus    122\n",
      "6          mudah    107\n",
      "7         solusi    107\n",
      "8           aman    100\n",
      "9          cepat     88\n",
      "10       percaya     81\n",
      "\n",
      "   Negative Word  count\n",
      "0          tidak   1682\n",
      "1          patah    493\n",
      "2          karat    439\n",
      "3           jual    349\n",
      "4          ganti    329\n",
      "5         recall    254\n",
      "6        keropos    252\n",
      "7        silikat    202\n",
      "8            cat    181\n",
      "9           rugi    159\n",
      "10      tanggung    155\n"
     ]
    }
   ],
   "source": [
    "import pandas as pd\n",
    "\n",
    "def top_words(hasil_kata_positive, hasil_kata_negative):\n",
    "    # Menggabungkan semua kata positif dan negatif\n",
    "    all_positive_words = [word for sublist in hasil_kata_positive for word in sublist]\n",
    "    all_negative_words = [word for sublist in hasil_kata_negative for word in sublist]\n",
    "    \n",
    "    # Menghitung frekuensi kata positif dan negatif\n",
    "    positive_freq = pd.Series(all_positive_words).value_counts().reset_index().rename(columns={'index': 'Positive Word', 0: 'Frequency'})\n",
    "    negative_freq = pd.Series(all_negative_words).value_counts().reset_index().rename(columns={'index': 'Negative Word', 0: 'Frequency'})\n",
    "    \n",
    "    # Mengambil 11 kata teratas\n",
    "    top_20_positive = positive_freq.head(11)\n",
    "    top_20_negative = negative_freq.head(11)\n",
    "    \n",
    "    return top_20_positive, top_20_negative\n",
    "\n",
    "# Mendapatkan kata-kata teratas\n",
    "top_kata_positive, top_kata_negative = top_words(hasil_kata_positive, hasil_kata_negative)\n",
    "\n",
    "# Mengubah hasil menjadi DataFrame\n",
    "result3 = pd.DataFrame(top_kata_positive)\n",
    "result4 = pd.DataFrame(top_kata_negative)\n",
    "\n",
    "# Menampilkan hasil\n",
    "print(f\"{result3}\\n\\n{result4}\")\n"
   ]
  },
  {
   "cell_type": "markdown",
   "id": "bdaca463",
   "metadata": {},
   "source": [
    "# Visualisasi Data"
   ]
  },
  {
   "cell_type": "markdown",
   "id": "9adc77cb",
   "metadata": {},
   "source": [
    "# Worcloud"
   ]
  },
  {
   "cell_type": "code",
   "execution_count": 28,
   "id": "16d60086",
   "metadata": {},
   "outputs": [
    {
     "data": {
      "image/png": "[encoded data removed]",
      "text/plain": [
       "<Figure size 1200x700 with 2 Axes>"
      ]
     },
     "metadata": {},
     "output_type": "display_data"
    }
   ],
   "source": [
    "from wordcloud import WordCloud\n",
    "import matplotlib.pyplot as plt\n",
    "import pandas as pd\n",
    "\n",
    "\n",
    "positive_words_str = ' '.join(result3['Positive Word'])\n",
    "negative_words_str = ' '.join(result4['Negative Word'])\n",
    "\n",
    "# Membuat wordcloud dari kata-kata positif\n",
    "wc_positive = WordCloud(background_color=\"white\", colormap=\"Greens\", max_words=50, width=400, height=400)\n",
    "wc_positive.generate(positive_words_str)\n",
    "\n",
    "# Membuat wordcloud dari kata-kata negatif\n",
    "wc_negative = WordCloud(background_color=\"white\", colormap=\"Reds\", max_words=50, width=400, height=400)\n",
    "wc_negative.generate(negative_words_str)\n",
    "\n",
    "# Menampilkan kedua wordcloud dalam satu figure\n",
    "fig, (ax1, ax2) = plt.subplots(1, 2, figsize=(12, 7))\n",
    "ax1.imshow(wc_positive, interpolation='bilinear')\n",
    "ax1.axis(\"off\")\n",
    "ax1.set_title('Positive')\n",
    "\n",
    "ax2.imshow(wc_negative, interpolation='bilinear')\n",
    "ax2.axis(\"off\")\n",
    "ax2.set_title('Negative')\n",
    "\n",
    "plt.show()\n"
   ]
  },
  {
   "cell_type": "markdown",
   "id": "1d5dd337",
   "metadata": {},
   "source": [
    "# Diagram Pie"
   ]
  },
  {
   "cell_type": "code",
   "execution_count": 29,
   "id": "4f58da69",
   "metadata": {},
   "outputs": [
    {
     "data": {
      "image/png": "[encoded data removed]",
      "text/plain": [
       "<Figure size 600x600 with 1 Axes>"
      ]
     },
     "metadata": {},
     "output_type": "display_data"
    }
   ],
   "source": [
    "from wordcloud import WordCloud\n",
    "import matplotlib.pyplot as plt\n",
    "import pandas as pd\n",
    "\n",
    "fig, ax = plt.subplots(figsize = (6, 6))\n",
    "sizes = [count for count in df['polarity'].value_counts()]\n",
    "labels = list(df['polarity'].value_counts().index)\n",
    "explode = (0.1 , 0)\n",
    "#jika pakek netral\n",
    "# explode = (0.1, 0, 0) \n",
    "colors = ['#66b3ff', '#ffcc99', '#ff9999']\n",
    "ax.pie(x = sizes, labels = labels, colors=colors, autopct = '%1.1f%%', explode = explode, textprops={'fontsize': 14})\n",
    "ax.set_title(f\"Sentiment Polarity on Review Apps Data \\n (total = {str(len(df['Text_Clean_split']))}  review)\", fontsize = 16, pad = 20)\n",
    "plt.show()"
   ]
  },
  {
   "cell_type": "markdown",
   "id": "9d7360e1",
   "metadata": {},
   "source": [
    "# TF-IDF (term frequency-inverse document frequency)\n",
    "TF-IDF digunakan untuk mengubah data teks menjadi vektor namun dengan memperhatikan apakah sebuah kata tersebut cukup informatif atau tidak"
   ]
  },
  {
   "cell_type": "code",
   "execution_count": 30,
   "id": "e7d4d318",
   "metadata": {},
   "outputs": [
    {
     "name": "stdout",
     "output_type": "stream",
     "text": [
      "  (0, 3077)\t0.37670075603105024\n",
      "  (0, 2273)\t0.3461693086273629\n",
      "  (0, 4549)\t0.5197390564057246\n",
      "  (0, 2653)\t0.571166528975754\n",
      "  (0, 5016)\t0.37670075603105024\n",
      "  (1, 559)\t0.6529923779388622\n",
      "  (1, 5192)\t0.3125243709380189\n",
      "  (1, 704)\t0.6898764178630443\n"
     ]
    }
   ],
   "source": [
    "from sklearn.feature_extraction.text import TfidfVectorizer\n",
    "from sklearn.preprocessing import LabelEncoder\n",
    "\n",
    "# Label encoding\n",
    "label_encoder = LabelEncoder()\n",
    "df['polarity_encoded'] = label_encoder.fit_transform(df['polarity'])\n",
    "\n",
    "# TF-IDF vectorizer\n",
    "df['Text_Clean_lagi'] = df['Text_Clean_lagi'].astype(str)\n",
    "tfidf = TfidfVectorizer()\n",
    "ulasan = df['Text_Clean_lagi'].values.tolist()\n",
    "X = tfidf.fit_transform(ulasan)\n",
    "y = df['polarity_encoded']\n",
    "\n",
    "print(X[0:2])"
   ]
  },
  {
   "cell_type": "markdown",
   "id": "34b43d83",
   "metadata": {},
   "source": [
    "# Split Data"
   ]
  },
  {
   "cell_type": "code",
   "execution_count": 31,
   "id": "9dbd0335",
   "metadata": {},
   "outputs": [
    {
     "name": "stdout",
     "output_type": "stream",
     "text": [
      "Total Keseluruhan Data :  3243\n",
      "Total Data Latih :  2918\n",
      "Total Data Test :  325\n"
     ]
    }
   ],
   "source": [
    "#melakukan proses pemisahan data train dan data test\n",
    "\n",
    "from pandas. core. common import random_state\n",
    "from sklearn.feature_extraction.text import CountVectorizer\n",
    "from sklearn.model_selection import train_test_split\n",
    "\n",
    "X_train, X_test, y_train, y_test = train_test_split(X, y, test_size=0.1, random_state=0, stratify=y)\n",
    "\n",
    "data_latih = len(y_train)\n",
    "data_test = len(y_test)\n",
    "all_data = len(y)\n",
    "\n",
    "print(\"Total Keseluruhan Data : \", all_data)\n",
    "print(\"Total Data Latih : \", data_latih)\n",
    "print(\"Total Data Test : \", data_test)"
   ]
  },
  {
   "cell_type": "markdown",
   "id": "13a32725",
   "metadata": {},
   "source": [
    " # Modeling Metode Naive Bayes Classifier"
   ]
  },
  {
   "cell_type": "code",
   "execution_count": 32,
   "id": "3fbb8866",
   "metadata": {},
   "outputs": [
    {
     "name": "stdout",
     "output_type": "stream",
     "text": [
      "Akurasi dengan menggunakan Naive Bayes:  80.61538461538461 %\n"
     ]
    }
   ],
   "source": [
    "#menghitung akurasi dengan menggunakan metode naive bayes classifier\n",
    "\n",
    "from sklearn import naive_bayes\n",
    "from sklearn import metrics\n",
    "\n",
    "nb = naive_bayes.MultinomialNB()\n",
    "\n",
    "nb.fit(X_train, y_train)\n",
    "y_pred = nb.predict(X_test)\n",
    "score = metrics.accuracy_score(y_test, y_pred)\n",
    "score_nb = score\n",
    "print(\"Akurasi dengan menggunakan Naive Bayes: \", score*100,\"%\")"
   ]
  },
  {
   "cell_type": "markdown",
   "id": "f482dc3e",
   "metadata": {},
   "source": [
    "# Hasil proses report Classification Report :"
   ]
  },
  {
   "cell_type": "code",
   "execution_count": 33,
   "id": "2c4a7c91",
   "metadata": {},
   "outputs": [
    {
     "name": "stdout",
     "output_type": "stream",
     "text": [
      "RFC Classification Report : \n",
      "               precision    recall  f1-score   support\n",
      "\n",
      "           0       0.80      1.00      0.89       260\n",
      "           1       1.00      0.03      0.06        65\n",
      "\n",
      "    accuracy                           0.81       325\n",
      "   macro avg       0.90      0.52      0.48       325\n",
      "weighted avg       0.84      0.81      0.73       325\n",
      "\n"
     ]
    }
   ],
   "source": [
    "#merekap hasil dari confusion matrix\n",
    "\n",
    "from sklearn.metrics import classification_report\n",
    "print(\"RFC Classification Report : \\n\", classification_report(y_test, y_pred))"
   ]
  },
  {
   "cell_type": "markdown",
   "id": "8c9f6bd7",
   "metadata": {},
   "source": [
    "# Evaluasi Confusion Matrix"
   ]
  },
  {
   "cell_type": "code",
   "execution_count": 34,
   "id": "013e7178",
   "metadata": {},
   "outputs": [
    {
     "name": "stdout",
     "output_type": "stream",
     "text": [
      "Akurasi: 0.8061538461538461\n"
     ]
    },
    {
     "data": {
      "image/png": "[encoded data removed]",
      "text/plain": [
       "<Figure size 640x480 with 2 Axes>"
      ]
     },
     "metadata": {},
     "output_type": "display_data"
    },
    {
     "name": "stdout",
     "output_type": "stream",
     "text": [
      "Rumus :\n",
      "{TP + TN}{TP + TN + FP + FN} = akurasi\n",
      "Hitung akurasi menggunakan rumus :\n",
      "{2 + 260}{2 + 260 + 63 + 0} = 80.60000000000001\\%\n",
      "Precison :  0.9024767801857585\n",
      "Recall :  0.5153846153846153\n",
      "F Score :  0.4758198714830649\n"
     ]
    }
   ],
   "source": [
    "from sklearn.metrics import accuracy_score, confusion_matrix, classification_report, ConfusionMatrixDisplay\n",
    "import matplotlib.pyplot as plt\n",
    "import pandas as pd\n",
    "from sklearn.naive_bayes import MultinomialNB  # Pastikan Anda menggunakan model yang sesuai\n",
    "\n",
    "# Misal nb adalah model Naive Bayes yang sudah dilatih\n",
    "# nb = MultinomialNB()\n",
    "# nb.fit(X_train, y_train)\n",
    "\n",
    "# Prediksi\n",
    "y_pred = nb.predict(X_test)\n",
    "\n",
    "# Menghitung dan mencetak akurasi\n",
    "accuracy = accuracy_score(y_test, y_pred)\n",
    "print(f'Akurasi: {accuracy}')\n",
    "\n",
    "# Menghitung confusion matrix\n",
    "cm = confusion_matrix(y_test, y_pred)\n",
    "\n",
    "# Menampilkan confusion matrix menggunakan ConfusionMatrixDisplay\n",
    "disp = ConfusionMatrixDisplay(confusion_matrix=cm)\n",
    "disp.plot()\n",
    "\n",
    "plt.show()\n",
    "\n",
    "# # Menghitung dan mencetak classification report\n",
    "# report = classification_report(y_test, y_pred)\n",
    "# print(f'Classification Report:\\n{report}')\n",
    "\n",
    "# Menghitung metrik tambahan dari confusion matrix\n",
    "TP = cm[1,1]\n",
    "TN = cm[0,0]\n",
    "FN = cm[0,1]\n",
    "FP = cm[1,0]\n",
    "hasil = pd.DataFrame({ \"Tipe Data\" : [\"True Negative\", \"True Positive\", \"False Negative\", \"False Positive\"],\n",
    "\"Hasil\" : [TN, TP, FN, FP]})\n",
    "result_accuracy = round((TN + TP) / (TP + TN + FP + FN), 3) * 100\n",
    "print(\"Rumus :\")\n",
    "print(r'''{TP + TN}{TP + TN + FP + FN} = akurasi''')\n",
    "print(\"Hitung akurasi menggunakan rumus :\")\n",
    "print(r'''{%d + %d}{%d + %d + %d + %d} = %s\\%%''' % (TP, TN, TP, TN, FP, FN, result_accuracy))\n",
    "\n",
    "from sklearn.metrics import precision_recall_fscore_support\n",
    "P = precision_recall_fscore_support(y_test, y_pred, average='macro')\n",
    "print(\"Precison : \", P[0])\n",
    "print(\"Recall : \", P[1])\n",
    "print(\"F Score : \", P[2])\n"
   ]
  },
  {
   "cell_type": "code",
   "execution_count": 35,
   "id": "c6a2fbad",
   "metadata": {},
   "outputs": [],
   "source": [
    "#import ke pickle\n",
    "import pickle\n",
    "\n",
    "# pickle.dump((nb,tfidf),open('model.pkl','wb'))\n",
    "\n",
    "with open('model/label_lexicon/model.pkl', 'wb') as model_file:\n",
    "        pickle.dump(nb, model_file)\n",
    "    \n",
    "with open('model/label_lexicon/label_encoder.pkl', 'wb') as le_file:\n",
    "    pickle.dump(label_encoder, le_file)\n",
    "\n",
    "with open('model/label_lexicon/tfidf_vectorizer.pkl', 'wb') as tfidf_file:\n",
    "    pickle.dump(tfidf, tfidf_file)"
   ]
  },
  {
   "cell_type": "code",
   "execution_count": null,
   "id": "585a3c6c",
   "metadata": {},
   "outputs": [],
   "source": []
  }
 ],
 "metadata": {
  "kernelspec": {
   "display_name": "Python 3 (ipykernel)",
   "language": "python",
   "name": "python3"
  },
  "language_info": {
   "codemirror_mode": {
    "name": "ipython",
    "version": 3
   },
   "file_extension": ".py",
   "mimetype": "text/x-python",
   "name": "python",
   "nbconvert_exporter": "python",
   "pygments_lexer": "ipython3",
   "version": "3.9.13"
  }
 },
 "nbformat": 4,
 "nbformat_minor": 5
}
